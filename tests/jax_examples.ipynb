{
 "cells": [
  {
   "cell_type": "code",
   "id": "9c947b7e7ebce918",
   "metadata": {
    "collapsed": true,
    "ExecuteTime": {
     "end_time": "2024-08-11T13:55:42.602089Z",
     "start_time": "2024-08-11T13:55:42.600057Z"
    }
   },
   "source": [
    "from typing import Callable\n",
    "\n",
    "import jax\n",
    "import jax.numpy as jnp"
   ],
   "outputs": [],
   "execution_count": 27
  },
  {
   "metadata": {
    "ExecuteTime": {
     "end_time": "2024-08-11T13:55:43.096497Z",
     "start_time": "2024-08-11T13:55:43.091528Z"
    }
   },
   "cell_type": "code",
   "source": [
    "f = Callable[[int, int], int]\n",
    "\n",
    "def test(x: int, y: int) -> int:\n",
    "    return x + y\n",
    "\n",
    "def test2(x: int, y: int) -> int:\n",
    "    print('test')\n",
    "    return x + y\n",
    "\n",
    "# Define the function you want to pass separately\n",
    "@jax.jit\n",
    "def add(x: int, y: int) -> int:\n",
    "    return x + y\n",
    "\n",
    "# Define the main function that uses the JIT-compiled function\n",
    "def test_func(x: int, y: int, func: Callable[[int, int], int]) -> int:\n",
    "    return func(x, y)\n",
    "\n",
    "# JIT-compile the main function\n",
    "test_func = jax.jit(test_func)\n",
    "\n",
    "test_jax = jax.jit(test)\n",
    "test_jax2 = jax.jit(test2)"
   ],
   "id": "initial_id",
   "outputs": [],
   "execution_count": 28
  },
  {
   "metadata": {
    "ExecuteTime": {
     "end_time": "2024-08-11T13:55:43.867060Z",
     "start_time": "2024-08-11T13:55:43.854943Z"
    }
   },
   "cell_type": "code",
   "source": "test_jax(5,3)",
   "id": "7e0e56ab7ea1c7f4",
   "outputs": [
    {
     "data": {
      "text/plain": [
       "Array(8, dtype=int32, weak_type=True)"
      ]
     },
     "execution_count": 29,
     "metadata": {},
     "output_type": "execute_result"
    }
   ],
   "execution_count": 29
  },
  {
   "metadata": {
    "ExecuteTime": {
     "end_time": "2024-08-11T13:55:44.468078Z",
     "start_time": "2024-08-11T13:55:44.453467Z"
    }
   },
   "cell_type": "code",
   "source": "test_jax2(5,3)",
   "id": "daecb41c6038cd75",
   "outputs": [
    {
     "name": "stdout",
     "output_type": "stream",
     "text": [
      "test\n"
     ]
    },
    {
     "data": {
      "text/plain": [
       "Array(8, dtype=int32, weak_type=True)"
      ]
     },
     "execution_count": 30,
     "metadata": {},
     "output_type": "execute_result"
    }
   ],
   "execution_count": 30
  },
  {
   "metadata": {
    "ExecuteTime": {
     "end_time": "2024-08-11T13:55:59.058610Z",
     "start_time": "2024-08-11T13:55:59.036998Z"
    }
   },
   "cell_type": "code",
   "source": "test_func(5,3, add)",
   "id": "7a1583255794ca3a",
   "outputs": [
    {
     "ename": "TypeError",
     "evalue": "Cannot interpret value of type <class 'jaxlib.xla_extension.PjitFunction'> as an abstract array; it does not have a dtype attribute",
     "output_type": "error",
     "traceback": [
      "\u001B[0;31m---------------------------------------------------------------------------\u001B[0m",
      "\u001B[0;31mTypeError\u001B[0m                                 Traceback (most recent call last)",
      "Cell \u001B[0;32mIn[32], line 1\u001B[0m\n\u001B[0;32m----> 1\u001B[0m \u001B[43mtest_func\u001B[49m\u001B[43m(\u001B[49m\u001B[38;5;241;43m5\u001B[39;49m\u001B[43m,\u001B[49m\u001B[38;5;241;43m3\u001B[39;49m\u001B[43m,\u001B[49m\u001B[43m \u001B[49m\u001B[43madd\u001B[49m\u001B[43m)\u001B[49m\n",
      "    \u001B[0;31m[... skipping hidden 6 frame]\u001B[0m\n",
      "File \u001B[0;32m~/Library/Caches/pypoetry/virtualenvs/laplacean-g9E-sgl9-py3.12/lib/python3.12/site-packages/jax/_src/api_util.py:576\u001B[0m, in \u001B[0;36m_shaped_abstractify_slow\u001B[0;34m(x)\u001B[0m\n\u001B[1;32m    574\u001B[0m   dtype \u001B[38;5;241m=\u001B[39m dtypes\u001B[38;5;241m.\u001B[39mcanonicalize_dtype(x\u001B[38;5;241m.\u001B[39mdtype, allow_extended_dtype\u001B[38;5;241m=\u001B[39m\u001B[38;5;28;01mTrue\u001B[39;00m)\n\u001B[1;32m    575\u001B[0m \u001B[38;5;28;01melse\u001B[39;00m:\n\u001B[0;32m--> 576\u001B[0m   \u001B[38;5;28;01mraise\u001B[39;00m \u001B[38;5;167;01mTypeError\u001B[39;00m(\n\u001B[1;32m    577\u001B[0m       \u001B[38;5;124mf\u001B[39m\u001B[38;5;124m\"\u001B[39m\u001B[38;5;124mCannot interpret value of type \u001B[39m\u001B[38;5;132;01m{\u001B[39;00m\u001B[38;5;28mtype\u001B[39m(x)\u001B[38;5;132;01m}\u001B[39;00m\u001B[38;5;124m as an abstract array; it \u001B[39m\u001B[38;5;124m\"\u001B[39m\n\u001B[1;32m    578\u001B[0m       \u001B[38;5;124m\"\u001B[39m\u001B[38;5;124mdoes not have a dtype attribute\u001B[39m\u001B[38;5;124m\"\u001B[39m)\n\u001B[1;32m    579\u001B[0m \u001B[38;5;28;01mreturn\u001B[39;00m core\u001B[38;5;241m.\u001B[39mShapedArray(np\u001B[38;5;241m.\u001B[39mshape(x), dtype, weak_type\u001B[38;5;241m=\u001B[39mweak_type)\n",
      "\u001B[0;31mTypeError\u001B[0m: Cannot interpret value of type <class 'jaxlib.xla_extension.PjitFunction'> as an abstract array; it does not have a dtype attribute"
     ]
    }
   ],
   "execution_count": 32
  },
  {
   "metadata": {
    "ExecuteTime": {
     "end_time": "2024-08-11T13:58:25.484249Z",
     "start_time": "2024-08-11T13:58:25.252Z"
    }
   },
   "cell_type": "code",
   "source": [
    "# Define the operations you want to perform as separate functions\n",
    "def add(x: int, y: int) -> int:\n",
    "    return x + y\n",
    "\n",
    "def subtract(x: int, y: int) -> int:\n",
    "    return x - y\n",
    "\n",
    "# Define the main function with control flow to select the operation\n",
    "# Define the main function with control flow based on integer flags\n",
    "@jax.jit\n",
    "def test_func(x: int, y: int, operation: int) -> int:\n",
    "    if operation == 0:\n",
    "        return add(x, y)\n",
    "    elif operation == 1:\n",
    "        return subtract(x, y)\n",
    "    else:\n",
    "        raise ValueError(\"Unsupported operation\")\n",
    "\n",
    "# Call the main function with the desired operation\n",
    "result_add = test_func(5, 3, 0)\n",
    "print(result_add)  # Output should be 8\n",
    "\n",
    "result_subtract = test_func(5, 3, 1)\n",
    "print(result_subtract)  # Output should be 2"
   ],
   "id": "1019d594ed474603",
   "outputs": [
    {
     "ename": "TracerBoolConversionError",
     "evalue": "Attempted boolean conversion of traced array with shape bool[].\nThe error occurred while tracing the function test_func at /var/folders/f1/8mlz_8fd39bdxjwt47vnbpx80000gn/T/ipykernel_5026/1191508438.py:10 for jit. This concrete value was not available in Python because it depends on the value of the argument operation.\nSee https://jax.readthedocs.io/en/latest/errors.html#jax.errors.TracerBoolConversionError",
     "output_type": "error",
     "traceback": [
      "\u001B[0;31m---------------------------------------------------------------------------\u001B[0m",
      "\u001B[0;31mTracerBoolConversionError\u001B[0m                 Traceback (most recent call last)",
      "Cell \u001B[0;32mIn[35], line 20\u001B[0m\n\u001B[1;32m     17\u001B[0m         \u001B[38;5;28;01mraise\u001B[39;00m \u001B[38;5;167;01mValueError\u001B[39;00m(\u001B[38;5;124m\"\u001B[39m\u001B[38;5;124mUnsupported operation\u001B[39m\u001B[38;5;124m\"\u001B[39m)\n\u001B[1;32m     19\u001B[0m \u001B[38;5;66;03m# Call the main function with the desired operation\u001B[39;00m\n\u001B[0;32m---> 20\u001B[0m result_add \u001B[38;5;241m=\u001B[39m \u001B[43mtest_func\u001B[49m\u001B[43m(\u001B[49m\u001B[38;5;241;43m5\u001B[39;49m\u001B[43m,\u001B[49m\u001B[43m \u001B[49m\u001B[38;5;241;43m3\u001B[39;49m\u001B[43m,\u001B[49m\u001B[43m \u001B[49m\u001B[38;5;241;43m0\u001B[39;49m\u001B[43m)\u001B[49m\n\u001B[1;32m     21\u001B[0m \u001B[38;5;28mprint\u001B[39m(result_add)  \u001B[38;5;66;03m# Output should be 8\u001B[39;00m\n\u001B[1;32m     23\u001B[0m result_subtract \u001B[38;5;241m=\u001B[39m test_func(\u001B[38;5;241m5\u001B[39m, \u001B[38;5;241m3\u001B[39m, \u001B[38;5;241m1\u001B[39m)\n",
      "    \u001B[0;31m[... skipping hidden 11 frame]\u001B[0m\n",
      "Cell \u001B[0;32mIn[35], line 12\u001B[0m, in \u001B[0;36mtest_func\u001B[0;34m(x, y, operation)\u001B[0m\n\u001B[1;32m     10\u001B[0m \u001B[38;5;129m@jax\u001B[39m\u001B[38;5;241m.\u001B[39mjit\n\u001B[1;32m     11\u001B[0m \u001B[38;5;28;01mdef\u001B[39;00m \u001B[38;5;21mtest_func\u001B[39m(x: \u001B[38;5;28mint\u001B[39m, y: \u001B[38;5;28mint\u001B[39m, operation: \u001B[38;5;28mint\u001B[39m) \u001B[38;5;241m-\u001B[39m\u001B[38;5;241m>\u001B[39m \u001B[38;5;28mint\u001B[39m:\n\u001B[0;32m---> 12\u001B[0m     \u001B[38;5;28;01mif\u001B[39;00m operation \u001B[38;5;241m==\u001B[39m \u001B[38;5;241m0\u001B[39m:\n\u001B[1;32m     13\u001B[0m         \u001B[38;5;28;01mreturn\u001B[39;00m add(x, y)\n\u001B[1;32m     14\u001B[0m     \u001B[38;5;28;01melif\u001B[39;00m operation \u001B[38;5;241m==\u001B[39m \u001B[38;5;241m1\u001B[39m:\n",
      "    \u001B[0;31m[... skipping hidden 1 frame]\u001B[0m\n",
      "File \u001B[0;32m~/Library/Caches/pypoetry/virtualenvs/laplacean-g9E-sgl9-py3.12/lib/python3.12/site-packages/jax/_src/core.py:1528\u001B[0m, in \u001B[0;36mconcretization_function_error.<locals>.error\u001B[0;34m(self, arg)\u001B[0m\n\u001B[1;32m   1527\u001B[0m \u001B[38;5;28;01mdef\u001B[39;00m \u001B[38;5;21merror\u001B[39m(\u001B[38;5;28mself\u001B[39m, arg):\n\u001B[0;32m-> 1528\u001B[0m   \u001B[38;5;28;01mraise\u001B[39;00m TracerBoolConversionError(arg)\n",
      "\u001B[0;31mTracerBoolConversionError\u001B[0m: Attempted boolean conversion of traced array with shape bool[].\nThe error occurred while tracing the function test_func at /var/folders/f1/8mlz_8fd39bdxjwt47vnbpx80000gn/T/ipykernel_5026/1191508438.py:10 for jit. This concrete value was not available in Python because it depends on the value of the argument operation.\nSee https://jax.readthedocs.io/en/latest/errors.html#jax.errors.TracerBoolConversionError"
     ]
    }
   ],
   "execution_count": 35
  },
  {
   "metadata": {
    "ExecuteTime": {
     "end_time": "2024-08-11T14:06:10.622899Z",
     "start_time": "2024-08-11T14:06:10.620180Z"
    }
   },
   "cell_type": "code",
   "source": [
    "def create_func(op):\n",
    "    if op == \"add\":\n",
    "        return jax.jit(lambda x, y: x + y)\n",
    "    elif op == \"mul\":\n",
    "        return jax.jit(lambda x, y: x * y)\n",
    "    # Add more operations as needed\n"
   ],
   "id": "aa2b965068f74d86",
   "outputs": [],
   "execution_count": 36
  },
  {
   "metadata": {
    "ExecuteTime": {
     "end_time": "2024-08-11T14:08:01.802643Z",
     "start_time": "2024-08-11T14:08:01.785562Z"
    }
   },
   "cell_type": "code",
   "source": [
    "jix_add = create_func(\"add\")\n",
    "jix_mul = create_func(\"mul\")\n",
    "\n",
    "jix_add(3,4)\n",
    "jix_mul(3,4)"
   ],
   "id": "162bdea415ea05d1",
   "outputs": [
    {
     "data": {
      "text/plain": [
       "Array(12, dtype=int32, weak_type=True)"
      ]
     },
     "execution_count": 38,
     "metadata": {},
     "output_type": "execute_result"
    }
   ],
   "execution_count": 38
  },
  {
   "metadata": {
    "ExecuteTime": {
     "end_time": "2024-08-11T14:28:07.152359Z",
     "start_time": "2024-08-11T14:28:07.137465Z"
    }
   },
   "cell_type": "code",
   "source": [
    "from methods.potential_energy import PotentialEnergy\n",
    "from jaxtyping import Array\n",
    "\n",
    "\n",
    "def U(q: Array) -> float:\n",
    "    return 0.5\n",
    "\n",
    "# Create a factory function that returns a JIT-compiled version of test_f\n",
    "def create_test_f(energy_func: Callable[[jnp.ndarray], float]):\n",
    "    @jax.jit\n",
    "    def test_f(x: float) -> float:\n",
    "        return energy_func(jnp.array(x))\n",
    "    return test_f\n",
    "\n",
    "# Instantiate PotentialEnergy with the potential function U\n",
    "energy = PotentialEnergy(U)\n",
    "\n",
    "# Create the JIT-compiled test function using the factory\n",
    "jit_test_f = create_test_f(energy.__call__)\n",
    "\n",
    "# Now you can use jit_test_f directly\n",
    "test_energy = jit_test_f(1)\n",
    "\n",
    "print(test_energy)"
   ],
   "id": "e42a999aaafebd",
   "outputs": [
    {
     "name": "stdout",
     "output_type": "stream",
     "text": [
      "0.5\n"
     ]
    }
   ],
   "execution_count": 43
  },
  {
   "metadata": {},
   "cell_type": "code",
   "outputs": [],
   "execution_count": null,
   "source": "",
   "id": "4a245a3cde486b08"
  }
 ],
 "metadata": {
  "kernelspec": {
   "display_name": "Python 3",
   "language": "python",
   "name": "python3"
  },
  "language_info": {
   "codemirror_mode": {
    "name": "ipython",
    "version": 2
   },
   "file_extension": ".py",
   "mimetype": "text/x-python",
   "name": "python",
   "nbconvert_exporter": "python",
   "pygments_lexer": "ipython2",
   "version": "2.7.6"
  }
 },
 "nbformat": 4,
 "nbformat_minor": 5
}
